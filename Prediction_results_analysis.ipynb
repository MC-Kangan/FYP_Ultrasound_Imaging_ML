{
 "cells": [
  {
   "cell_type": "code",
   "execution_count": 2,
   "id": "4b49076b",
   "metadata": {},
   "outputs": [],
   "source": [
    "import pandas as pd\n",
    "import numpy as np\n",
    "import matplotlib.pyplot as plt\n",
    "import cv2 as cv\n",
    "import math"
   ]
  },
  {
   "cell_type": "markdown",
   "id": "9b217bf1",
   "metadata": {},
   "source": [
    "## 1. Summary statistics of all the defects"
   ]
  },
  {
   "cell_type": "code",
   "execution_count": 8,
   "id": "26e78bb1",
   "metadata": {},
   "outputs": [
    {
     "data": {
      "text/html": [
       "<div>\n",
       "<style scoped>\n",
       "    .dataframe tbody tr th:only-of-type {\n",
       "        vertical-align: middle;\n",
       "    }\n",
       "\n",
       "    .dataframe tbody tr th {\n",
       "        vertical-align: top;\n",
       "    }\n",
       "\n",
       "    .dataframe thead th {\n",
       "        text-align: right;\n",
       "    }\n",
       "</style>\n",
       "<table border=\"1\" class=\"dataframe\">\n",
       "  <thead>\n",
       "    <tr style=\"text-align: right;\">\n",
       "      <th></th>\n",
       "      <th>index</th>\n",
       "      <th>defWidth</th>\n",
       "      <th>defHeight</th>\n",
       "      <th>defPosx</th>\n",
       "      <th>defPosy</th>\n",
       "      <th>defAng</th>\n",
       "      <th>defAngR</th>\n",
       "    </tr>\n",
       "  </thead>\n",
       "  <tbody>\n",
       "    <tr>\n",
       "      <th>count</th>\n",
       "      <td>2450.000000</td>\n",
       "      <td>2450.000000</td>\n",
       "      <td>2.450000e+03</td>\n",
       "      <td>2450.000000</td>\n",
       "      <td>2450.000000</td>\n",
       "      <td>2450.000000</td>\n",
       "      <td>2450.000000</td>\n",
       "    </tr>\n",
       "    <tr>\n",
       "      <th>mean</th>\n",
       "      <td>1225.500000</td>\n",
       "      <td>0.026113</td>\n",
       "      <td>1.000000e-03</td>\n",
       "      <td>-0.000320</td>\n",
       "      <td>0.030388</td>\n",
       "      <td>1.270854</td>\n",
       "      <td>0.022181</td>\n",
       "    </tr>\n",
       "    <tr>\n",
       "      <th>std</th>\n",
       "      <td>707.398403</td>\n",
       "      <td>0.018352</td>\n",
       "      <td>6.484853e-17</td>\n",
       "      <td>0.022207</td>\n",
       "      <td>0.010287</td>\n",
       "      <td>45.282482</td>\n",
       "      <td>0.790328</td>\n",
       "    </tr>\n",
       "    <tr>\n",
       "      <th>min</th>\n",
       "      <td>1.000000</td>\n",
       "      <td>0.000019</td>\n",
       "      <td>1.000000e-03</td>\n",
       "      <td>-0.039965</td>\n",
       "      <td>0.010064</td>\n",
       "      <td>-89.977098</td>\n",
       "      <td>-1.570397</td>\n",
       "    </tr>\n",
       "    <tr>\n",
       "      <th>25%</th>\n",
       "      <td>613.250000</td>\n",
       "      <td>0.011295</td>\n",
       "      <td>1.000000e-03</td>\n",
       "      <td>-0.019785</td>\n",
       "      <td>0.022394</td>\n",
       "      <td>-31.603092</td>\n",
       "      <td>-0.551578</td>\n",
       "    </tr>\n",
       "    <tr>\n",
       "      <th>50%</th>\n",
       "      <td>1225.500000</td>\n",
       "      <td>0.022550</td>\n",
       "      <td>1.000000e-03</td>\n",
       "      <td>-0.000547</td>\n",
       "      <td>0.030307</td>\n",
       "      <td>0.439034</td>\n",
       "      <td>0.007663</td>\n",
       "    </tr>\n",
       "    <tr>\n",
       "      <th>75%</th>\n",
       "      <td>1837.750000</td>\n",
       "      <td>0.037277</td>\n",
       "      <td>1.000000e-03</td>\n",
       "      <td>0.018201</td>\n",
       "      <td>0.038533</td>\n",
       "      <td>34.079630</td>\n",
       "      <td>0.594802</td>\n",
       "    </tr>\n",
       "    <tr>\n",
       "      <th>max</th>\n",
       "      <td>2450.000000</td>\n",
       "      <td>0.079769</td>\n",
       "      <td>1.000000e-03</td>\n",
       "      <td>0.039946</td>\n",
       "      <td>0.049956</td>\n",
       "      <td>89.887496</td>\n",
       "      <td>1.568833</td>\n",
       "    </tr>\n",
       "  </tbody>\n",
       "</table>\n",
       "</div>"
      ],
      "text/plain": [
       "             index     defWidth     defHeight      defPosx      defPosy  \\\n",
       "count  2450.000000  2450.000000  2.450000e+03  2450.000000  2450.000000   \n",
       "mean   1225.500000     0.026113  1.000000e-03    -0.000320     0.030388   \n",
       "std     707.398403     0.018352  6.484853e-17     0.022207     0.010287   \n",
       "min       1.000000     0.000019  1.000000e-03    -0.039965     0.010064   \n",
       "25%     613.250000     0.011295  1.000000e-03    -0.019785     0.022394   \n",
       "50%    1225.500000     0.022550  1.000000e-03    -0.000547     0.030307   \n",
       "75%    1837.750000     0.037277  1.000000e-03     0.018201     0.038533   \n",
       "max    2450.000000     0.079769  1.000000e-03     0.039946     0.049956   \n",
       "\n",
       "            defAng      defAngR  \n",
       "count  2450.000000  2450.000000  \n",
       "mean      1.270854     0.022181  \n",
       "std      45.282482     0.790328  \n",
       "min     -89.977098    -1.570397  \n",
       "25%     -31.603092    -0.551578  \n",
       "50%       0.439034     0.007663  \n",
       "75%      34.079630     0.594802  \n",
       "max      89.887496     1.568833  "
      ]
     },
     "execution_count": 8,
     "metadata": {},
     "output_type": "execute_result"
    }
   ],
   "source": [
    "df = pd.read_csv('defect_3500.csv')\n",
    "df.describe()\n",
    "\n",
    "df.loc[:2449].describe()"
   ]
  },
  {
   "cell_type": "code",
   "execution_count": 11,
   "id": "fba8a0a4",
   "metadata": {},
   "outputs": [
    {
     "data": {
      "text/html": [
       "<div>\n",
       "<style scoped>\n",
       "    .dataframe tbody tr th:only-of-type {\n",
       "        vertical-align: middle;\n",
       "    }\n",
       "\n",
       "    .dataframe tbody tr th {\n",
       "        vertical-align: top;\n",
       "    }\n",
       "\n",
       "    .dataframe thead th {\n",
       "        text-align: right;\n",
       "    }\n",
       "</style>\n",
       "<table border=\"1\" class=\"dataframe\">\n",
       "  <thead>\n",
       "    <tr style=\"text-align: right;\">\n",
       "      <th></th>\n",
       "      <th>index</th>\n",
       "      <th>defWidth</th>\n",
       "      <th>defHeight</th>\n",
       "      <th>defPosx</th>\n",
       "      <th>defPosy</th>\n",
       "      <th>defAng</th>\n",
       "      <th>defAngR</th>\n",
       "    </tr>\n",
       "  </thead>\n",
       "  <tbody>\n",
       "    <tr>\n",
       "      <th>count</th>\n",
       "      <td>1050.000000</td>\n",
       "      <td>1050.000000</td>\n",
       "      <td>1.050000e+03</td>\n",
       "      <td>1050.000000</td>\n",
       "      <td>1050.000000</td>\n",
       "      <td>1050.000000</td>\n",
       "      <td>1050.000000</td>\n",
       "    </tr>\n",
       "    <tr>\n",
       "      <th>mean</th>\n",
       "      <td>2975.500000</td>\n",
       "      <td>0.026286</td>\n",
       "      <td>1.000000e-03</td>\n",
       "      <td>-0.000278</td>\n",
       "      <td>0.030139</td>\n",
       "      <td>1.336749</td>\n",
       "      <td>0.023331</td>\n",
       "    </tr>\n",
       "    <tr>\n",
       "      <th>std</th>\n",
       "      <td>303.253195</td>\n",
       "      <td>0.018588</td>\n",
       "      <td>4.555819e-18</td>\n",
       "      <td>0.022042</td>\n",
       "      <td>0.010129</td>\n",
       "      <td>45.585897</td>\n",
       "      <td>0.795624</td>\n",
       "    </tr>\n",
       "    <tr>\n",
       "      <th>min</th>\n",
       "      <td>2451.000000</td>\n",
       "      <td>0.000008</td>\n",
       "      <td>1.000000e-03</td>\n",
       "      <td>-0.039937</td>\n",
       "      <td>0.010064</td>\n",
       "      <td>-89.962484</td>\n",
       "      <td>-1.570142</td>\n",
       "    </tr>\n",
       "    <tr>\n",
       "      <th>25%</th>\n",
       "      <td>2713.250000</td>\n",
       "      <td>0.010588</td>\n",
       "      <td>1.000000e-03</td>\n",
       "      <td>-0.018673</td>\n",
       "      <td>0.022113</td>\n",
       "      <td>-31.528559</td>\n",
       "      <td>-0.550277</td>\n",
       "    </tr>\n",
       "    <tr>\n",
       "      <th>50%</th>\n",
       "      <td>2975.500000</td>\n",
       "      <td>0.023033</td>\n",
       "      <td>1.000000e-03</td>\n",
       "      <td>0.000420</td>\n",
       "      <td>0.029838</td>\n",
       "      <td>0.454046</td>\n",
       "      <td>0.007925</td>\n",
       "    </tr>\n",
       "    <tr>\n",
       "      <th>75%</th>\n",
       "      <td>3237.750000</td>\n",
       "      <td>0.037498</td>\n",
       "      <td>1.000000e-03</td>\n",
       "      <td>0.017929</td>\n",
       "      <td>0.038384</td>\n",
       "      <td>33.950915</td>\n",
       "      <td>0.592555</td>\n",
       "    </tr>\n",
       "    <tr>\n",
       "      <th>max</th>\n",
       "      <td>3500.000000</td>\n",
       "      <td>0.079220</td>\n",
       "      <td>1.000000e-03</td>\n",
       "      <td>0.039946</td>\n",
       "      <td>0.049956</td>\n",
       "      <td>89.403917</td>\n",
       "      <td>1.560393</td>\n",
       "    </tr>\n",
       "  </tbody>\n",
       "</table>\n",
       "</div>"
      ],
      "text/plain": [
       "             index     defWidth     defHeight      defPosx      defPosy  \\\n",
       "count  1050.000000  1050.000000  1.050000e+03  1050.000000  1050.000000   \n",
       "mean   2975.500000     0.026286  1.000000e-03    -0.000278     0.030139   \n",
       "std     303.253195     0.018588  4.555819e-18     0.022042     0.010129   \n",
       "min    2451.000000     0.000008  1.000000e-03    -0.039937     0.010064   \n",
       "25%    2713.250000     0.010588  1.000000e-03    -0.018673     0.022113   \n",
       "50%    2975.500000     0.023033  1.000000e-03     0.000420     0.029838   \n",
       "75%    3237.750000     0.037498  1.000000e-03     0.017929     0.038384   \n",
       "max    3500.000000     0.079220  1.000000e-03     0.039946     0.049956   \n",
       "\n",
       "            defAng      defAngR  \n",
       "count  1050.000000  1050.000000  \n",
       "mean      1.336749     0.023331  \n",
       "std      45.585897     0.795624  \n",
       "min     -89.962484    -1.570142  \n",
       "25%     -31.528559    -0.550277  \n",
       "50%       0.454046     0.007925  \n",
       "75%      33.950915     0.592555  \n",
       "max      89.403917     1.560393  "
      ]
     },
     "execution_count": 11,
     "metadata": {},
     "output_type": "execute_result"
    }
   ],
   "source": [
    "df.loc[2450:].describe()"
   ]
  },
  {
   "cell_type": "markdown",
   "id": "242840c9",
   "metadata": {},
   "source": [
    "### 3D MODEL"
   ]
  },
  {
   "cell_type": "code",
   "execution_count": 6,
   "id": "d1312b59",
   "metadata": {},
   "outputs": [
    {
     "data": {
      "text/html": [
       "<div>\n",
       "<style scoped>\n",
       "    .dataframe tbody tr th:only-of-type {\n",
       "        vertical-align: middle;\n",
       "    }\n",
       "\n",
       "    .dataframe tbody tr th {\n",
       "        vertical-align: top;\n",
       "    }\n",
       "\n",
       "    .dataframe thead th {\n",
       "        text-align: right;\n",
       "    }\n",
       "</style>\n",
       "<table border=\"1\" class=\"dataframe\">\n",
       "  <thead>\n",
       "    <tr style=\"text-align: right;\">\n",
       "      <th></th>\n",
       "      <th>MSE</th>\n",
       "      <th>MSE_modified</th>\n",
       "      <th>MSE_modified_das</th>\n",
       "      <th>MSE_modified_defect</th>\n",
       "      <th>MSE_modified_defect_DAS</th>\n",
       "    </tr>\n",
       "  </thead>\n",
       "  <tbody>\n",
       "    <tr>\n",
       "      <th>count</th>\n",
       "      <td>1050.000000</td>\n",
       "      <td>1050.000000</td>\n",
       "      <td>1050.000000</td>\n",
       "      <td>1050.000000</td>\n",
       "      <td>1050.000000</td>\n",
       "    </tr>\n",
       "    <tr>\n",
       "      <th>mean</th>\n",
       "      <td>0.011468</td>\n",
       "      <td>0.003418</td>\n",
       "      <td>0.068311</td>\n",
       "      <td>0.921102</td>\n",
       "      <td>1.482955</td>\n",
       "    </tr>\n",
       "    <tr>\n",
       "      <th>std</th>\n",
       "      <td>0.016320</td>\n",
       "      <td>0.004688</td>\n",
       "      <td>0.004339</td>\n",
       "      <td>0.096223</td>\n",
       "      <td>0.089848</td>\n",
       "    </tr>\n",
       "    <tr>\n",
       "      <th>min</th>\n",
       "      <td>0.000027</td>\n",
       "      <td>0.000004</td>\n",
       "      <td>0.061205</td>\n",
       "      <td>0.619470</td>\n",
       "      <td>1.202511</td>\n",
       "    </tr>\n",
       "    <tr>\n",
       "      <th>25%</th>\n",
       "      <td>0.000249</td>\n",
       "      <td>0.000095</td>\n",
       "      <td>0.065324</td>\n",
       "      <td>0.848718</td>\n",
       "      <td>1.423687</td>\n",
       "    </tr>\n",
       "    <tr>\n",
       "      <th>50%</th>\n",
       "      <td>0.002202</td>\n",
       "      <td>0.000682</td>\n",
       "      <td>0.067107</td>\n",
       "      <td>0.933007</td>\n",
       "      <td>1.482734</td>\n",
       "    </tr>\n",
       "    <tr>\n",
       "      <th>75%</th>\n",
       "      <td>0.018101</td>\n",
       "      <td>0.005720</td>\n",
       "      <td>0.070113</td>\n",
       "      <td>1.000000</td>\n",
       "      <td>1.545519</td>\n",
       "    </tr>\n",
       "    <tr>\n",
       "      <th>max</th>\n",
       "      <td>0.085815</td>\n",
       "      <td>0.023146</td>\n",
       "      <td>0.091812</td>\n",
       "      <td>1.167578</td>\n",
       "      <td>1.910013</td>\n",
       "    </tr>\n",
       "  </tbody>\n",
       "</table>\n",
       "</div>"
      ],
      "text/plain": [
       "               MSE  MSE_modified  MSE_modified_das  MSE_modified_defect  \\\n",
       "count  1050.000000   1050.000000       1050.000000          1050.000000   \n",
       "mean      0.011468      0.003418          0.068311             0.921102   \n",
       "std       0.016320      0.004688          0.004339             0.096223   \n",
       "min       0.000027      0.000004          0.061205             0.619470   \n",
       "25%       0.000249      0.000095          0.065324             0.848718   \n",
       "50%       0.002202      0.000682          0.067107             0.933007   \n",
       "75%       0.018101      0.005720          0.070113             1.000000   \n",
       "max       0.085815      0.023146          0.091812             1.167578   \n",
       "\n",
       "       MSE_modified_defect_DAS  \n",
       "count              1050.000000  \n",
       "mean                  1.482955  \n",
       "std                   0.089848  \n",
       "min                   1.202511  \n",
       "25%                   1.423687  \n",
       "50%                   1.482734  \n",
       "75%                   1.545519  \n",
       "max                   1.910013  "
      ]
     },
     "execution_count": 6,
     "metadata": {},
     "output_type": "execute_result"
    }
   ],
   "source": [
    "# df = pd.read_csv('2D_model_prediction_results.csv')\n",
    "df2 = pd.read_csv('Model_prediction_evaluation/3D_model_prediction_results_final.csv')\n",
    "\n",
    "df_summary = df2.describe().drop(columns=['index','defWidth','defHeight','defPosx','defPosy','defAng','defAngR'])\n",
    "df_summary"
   ]
  },
  {
   "cell_type": "code",
   "execution_count": 10,
   "id": "6d982d26",
   "metadata": {},
   "outputs": [
    {
     "data": {
      "text/plain": [
       "0.7378777231201727"
      ]
     },
     "execution_count": 10,
     "metadata": {},
     "output_type": "execute_result"
    }
   ],
   "source": [
    "(0.011468/0.011384-1)*100"
   ]
  },
  {
   "cell_type": "markdown",
   "id": "537fafbb",
   "metadata": {},
   "source": [
    "### 2D MODEL"
   ]
  },
  {
   "cell_type": "code",
   "execution_count": 28,
   "id": "3420ef66",
   "metadata": {},
   "outputs": [
    {
     "name": "stdout",
     "output_type": "stream",
     "text": [
      "\\begin{tabular}{lrrrrr}\n",
      "\\toprule\n",
      "{} &          MSE &  MSE\\_modified &  MSE\\_modified\\_das &  MSE\\_modified\\_defect &  MSE\\_modified\\_defect\\_DAS \\\\\n",
      "\\midrule\n",
      "count &  1050.000000 &   1050.000000 &       1050.000000 &          1050.000000 &              1050.000000 \\\\\n",
      "mean  &     0.011384 &      0.003418 &          0.068311 &             0.916891 &                 1.482955 \\\\\n",
      "std   &     0.016591 &      0.004776 &          0.004339 &             0.096650 &                 0.089848 \\\\\n",
      "min   &     0.000008 &      0.000001 &          0.061205 &             0.618017 &                 1.202511 \\\\\n",
      "25\\%   &     0.000069 &      0.000037 &          0.065324 &             0.844623 &                 1.423687 \\\\\n",
      "50\\%   &     0.000799 &      0.000283 &          0.067107 &             0.933803 &                 1.482734 \\\\\n",
      "75\\%   &     0.019240 &      0.005967 &          0.070113 &             0.999975 &                 1.545519 \\\\\n",
      "max   &     0.149570 &      0.036712 &          0.091812 &             1.263877 &                 1.910013 \\\\\n",
      "\\bottomrule\n",
      "\\end{tabular}\n",
      "\n"
     ]
    },
    {
     "name": "stderr",
     "output_type": "stream",
     "text": [
      "/var/folders/l5/2302s0j90898y2c73n3g1wmr0000gn/T/ipykernel_26434/3281503205.py:7: FutureWarning: In future versions `DataFrame.to_latex` is expected to utilise the base implementation of `Styler.to_latex` for formatting and rendering. The arguments signature may therefore change. It is recommended instead to use `DataFrame.style.to_latex` which also contains additional functionality.\n",
      "  print(df_summary.to_latex())\n"
     ]
    }
   ],
   "source": [
    "# df = pd.read_csv('2D_model_prediction_results.csv')\n",
    "df = pd.read_csv('Model_prediction_evaluation/2D_model_prediction_results_final.csv')\n",
    "\n",
    "df_summary = df.describe().drop(columns=['index','defWidth','defHeight','defPosx','defPosy','defAng','defAngR'])\n",
    "df_summary\n",
    "\n",
    "print(df_summary.to_latex())"
   ]
  },
  {
   "cell_type": "code",
   "execution_count": 13,
   "id": "d5aefce2",
   "metadata": {},
   "outputs": [
    {
     "data": {
      "text/plain": [
       "MSE                        0.011384\n",
       "MSE_modified               0.003418\n",
       "MSE_modified_das           0.068311\n",
       "MSE_modified_defect        0.916891\n",
       "MSE_modified_defect_DAS    1.482955\n",
       "Name: mean, dtype: float64"
      ]
     },
     "execution_count": 13,
     "metadata": {},
     "output_type": "execute_result"
    }
   ],
   "source": [
    "df_summary.loc['mean']"
   ]
  },
  {
   "cell_type": "code",
   "execution_count": 23,
   "id": "0ebf9aba",
   "metadata": {},
   "outputs": [
    {
     "data": {
      "text/plain": [
       "count    1050.000000\n",
       "mean        0.011384\n",
       "std         0.016591\n",
       "min         0.000008\n",
       "25%         0.000069\n",
       "50%         0.000799\n",
       "75%         0.019240\n",
       "max         0.149570\n",
       "Name: MSE, dtype: float64"
      ]
     },
     "execution_count": 23,
     "metadata": {},
     "output_type": "execute_result"
    }
   ],
   "source": [
    "df_summary.MSE"
   ]
  },
  {
   "cell_type": "code",
   "execution_count": 29,
   "id": "1c79b9d3",
   "metadata": {},
   "outputs": [
    {
     "data": {
      "text/html": [
       "<div>\n",
       "<style scoped>\n",
       "    .dataframe tbody tr th:only-of-type {\n",
       "        vertical-align: middle;\n",
       "    }\n",
       "\n",
       "    .dataframe tbody tr th {\n",
       "        vertical-align: top;\n",
       "    }\n",
       "\n",
       "    .dataframe thead th {\n",
       "        text-align: right;\n",
       "    }\n",
       "</style>\n",
       "<table border=\"1\" class=\"dataframe\">\n",
       "  <thead>\n",
       "    <tr style=\"text-align: right;\">\n",
       "      <th></th>\n",
       "      <th>index</th>\n",
       "      <th>defWidth</th>\n",
       "      <th>defHeight</th>\n",
       "      <th>defPosx</th>\n",
       "      <th>defPosy</th>\n",
       "      <th>defAng</th>\n",
       "      <th>defAngR</th>\n",
       "      <th>timestamp</th>\n",
       "      <th>MSE</th>\n",
       "      <th>MSE_modified</th>\n",
       "      <th>MSE_modified_das</th>\n",
       "      <th>MSE_modified_defect</th>\n",
       "      <th>MSE_modified_defect_DAS</th>\n",
       "    </tr>\n",
       "  </thead>\n",
       "  <tbody>\n",
       "    <tr>\n",
       "      <th>90</th>\n",
       "      <td>2541.0</td>\n",
       "      <td>0.041287</td>\n",
       "      <td>0.001</td>\n",
       "      <td>-0.000208</td>\n",
       "      <td>0.035605</td>\n",
       "      <td>29.183444</td>\n",
       "      <td>0.509347</td>\n",
       "      <td>01-Feb-2023 12:32:55</td>\n",
       "      <td>0.000069</td>\n",
       "      <td>0.000044</td>\n",
       "      <td>0.071769</td>\n",
       "      <td>0.911180</td>\n",
       "      <td>1.547970</td>\n",
       "    </tr>\n",
       "    <tr>\n",
       "      <th>124</th>\n",
       "      <td>2575.0</td>\n",
       "      <td>0.016307</td>\n",
       "      <td>0.001</td>\n",
       "      <td>0.038565</td>\n",
       "      <td>0.032162</td>\n",
       "      <td>84.075353</td>\n",
       "      <td>1.467392</td>\n",
       "      <td>01-Feb-2023 13:11:55</td>\n",
       "      <td>0.000069</td>\n",
       "      <td>0.000044</td>\n",
       "      <td>0.067110</td>\n",
       "      <td>0.716817</td>\n",
       "      <td>1.299905</td>\n",
       "    </tr>\n",
       "    <tr>\n",
       "      <th>618</th>\n",
       "      <td>3069.0</td>\n",
       "      <td>0.006750</td>\n",
       "      <td>0.001</td>\n",
       "      <td>0.035328</td>\n",
       "      <td>0.042322</td>\n",
       "      <td>12.421696</td>\n",
       "      <td>0.216800</td>\n",
       "      <td>02-Feb-2023 02:21:22</td>\n",
       "      <td>0.000069</td>\n",
       "      <td>0.000056</td>\n",
       "      <td>0.067130</td>\n",
       "      <td>0.756705</td>\n",
       "      <td>1.467606</td>\n",
       "    </tr>\n",
       "    <tr>\n",
       "      <th>632</th>\n",
       "      <td>3083.0</td>\n",
       "      <td>0.003701</td>\n",
       "      <td>0.001</td>\n",
       "      <td>0.024502</td>\n",
       "      <td>0.012622</td>\n",
       "      <td>-38.855388</td>\n",
       "      <td>-0.678154</td>\n",
       "      <td>02-Feb-2023 02:37:48</td>\n",
       "      <td>0.000069</td>\n",
       "      <td>0.000028</td>\n",
       "      <td>0.064093</td>\n",
       "      <td>0.831331</td>\n",
       "      <td>1.433752</td>\n",
       "    </tr>\n",
       "  </tbody>\n",
       "</table>\n",
       "</div>"
      ],
      "text/plain": [
       "      index  defWidth  defHeight   defPosx   defPosy     defAng   defAngR  \\\n",
       "90   2541.0  0.041287      0.001 -0.000208  0.035605  29.183444  0.509347   \n",
       "124  2575.0  0.016307      0.001  0.038565  0.032162  84.075353  1.467392   \n",
       "618  3069.0  0.006750      0.001  0.035328  0.042322  12.421696  0.216800   \n",
       "632  3083.0  0.003701      0.001  0.024502  0.012622 -38.855388 -0.678154   \n",
       "\n",
       "                timestamp       MSE  MSE_modified  MSE_modified_das  \\\n",
       "90   01-Feb-2023 12:32:55  0.000069      0.000044          0.071769   \n",
       "124  01-Feb-2023 13:11:55  0.000069      0.000044          0.067110   \n",
       "618  02-Feb-2023 02:21:22  0.000069      0.000056          0.067130   \n",
       "632  02-Feb-2023 02:37:48  0.000069      0.000028          0.064093   \n",
       "\n",
       "     MSE_modified_defect  MSE_modified_defect_DAS  \n",
       "90              0.911180                 1.547970  \n",
       "124             0.716817                 1.299905  \n",
       "618             0.756705                 1.467606  \n",
       "632             0.831331                 1.433752  "
      ]
     },
     "execution_count": 29,
     "metadata": {},
     "output_type": "execute_result"
    }
   ],
   "source": [
    "df[round(df.MSE, 6) == round(df_summary.MSE['25%'], 6)]\n",
    "# df[round(df.MSE_modified, 6) == round(df_summary.MSE_modified['25%'], 6)]"
   ]
  },
  {
   "cell_type": "code",
   "execution_count": 30,
   "id": "dbba620b",
   "metadata": {},
   "outputs": [
    {
     "data": {
      "text/html": [
       "<div>\n",
       "<style scoped>\n",
       "    .dataframe tbody tr th:only-of-type {\n",
       "        vertical-align: middle;\n",
       "    }\n",
       "\n",
       "    .dataframe tbody tr th {\n",
       "        vertical-align: top;\n",
       "    }\n",
       "\n",
       "    .dataframe thead th {\n",
       "        text-align: right;\n",
       "    }\n",
       "</style>\n",
       "<table border=\"1\" class=\"dataframe\">\n",
       "  <thead>\n",
       "    <tr style=\"text-align: right;\">\n",
       "      <th></th>\n",
       "      <th>index</th>\n",
       "      <th>defWidth</th>\n",
       "      <th>defHeight</th>\n",
       "      <th>defPosx</th>\n",
       "      <th>defPosy</th>\n",
       "      <th>defAng</th>\n",
       "      <th>defAngR</th>\n",
       "      <th>timestamp</th>\n",
       "      <th>MSE</th>\n",
       "      <th>MSE_modified</th>\n",
       "      <th>MSE_modified_das</th>\n",
       "      <th>MSE_modified_defect</th>\n",
       "      <th>MSE_modified_defect_DAS</th>\n",
       "    </tr>\n",
       "  </thead>\n",
       "  <tbody>\n",
       "    <tr>\n",
       "      <th>484</th>\n",
       "      <td>2935.0</td>\n",
       "      <td>0.057102</td>\n",
       "      <td>0.001</td>\n",
       "      <td>0.018438</td>\n",
       "      <td>0.032483</td>\n",
       "      <td>-24.856294</td>\n",
       "      <td>-0.433824</td>\n",
       "      <td>01-Feb-2023 21:53:57</td>\n",
       "      <td>0.000788</td>\n",
       "      <td>0.000308</td>\n",
       "      <td>0.069553</td>\n",
       "      <td>0.937003</td>\n",
       "      <td>1.575898</td>\n",
       "    </tr>\n",
       "    <tr>\n",
       "      <th>560</th>\n",
       "      <td>3011.0</td>\n",
       "      <td>0.034555</td>\n",
       "      <td>0.001</td>\n",
       "      <td>0.016721</td>\n",
       "      <td>0.028940</td>\n",
       "      <td>-76.386570</td>\n",
       "      <td>-1.333197</td>\n",
       "      <td>02-Feb-2023 00:58:02</td>\n",
       "      <td>0.000811</td>\n",
       "      <td>0.000324</td>\n",
       "      <td>0.065045</td>\n",
       "      <td>0.873231</td>\n",
       "      <td>1.428138</td>\n",
       "    </tr>\n",
       "    <tr>\n",
       "      <th>640</th>\n",
       "      <td>3091.0</td>\n",
       "      <td>0.054884</td>\n",
       "      <td>0.001</td>\n",
       "      <td>0.031652</td>\n",
       "      <td>0.034973</td>\n",
       "      <td>-36.315684</td>\n",
       "      <td>-0.633828</td>\n",
       "      <td>02-Feb-2023 02:46:56</td>\n",
       "      <td>0.000778</td>\n",
       "      <td>0.000255</td>\n",
       "      <td>0.069374</td>\n",
       "      <td>0.932338</td>\n",
       "      <td>1.517282</td>\n",
       "    </tr>\n",
       "  </tbody>\n",
       "</table>\n",
       "</div>"
      ],
      "text/plain": [
       "      index  defWidth  defHeight   defPosx   defPosy     defAng   defAngR  \\\n",
       "484  2935.0  0.057102      0.001  0.018438  0.032483 -24.856294 -0.433824   \n",
       "560  3011.0  0.034555      0.001  0.016721  0.028940 -76.386570 -1.333197   \n",
       "640  3091.0  0.054884      0.001  0.031652  0.034973 -36.315684 -0.633828   \n",
       "\n",
       "                timestamp       MSE  MSE_modified  MSE_modified_das  \\\n",
       "484  01-Feb-2023 21:53:57  0.000788      0.000308          0.069553   \n",
       "560  02-Feb-2023 00:58:02  0.000811      0.000324          0.065045   \n",
       "640  02-Feb-2023 02:46:56  0.000778      0.000255          0.069374   \n",
       "\n",
       "     MSE_modified_defect  MSE_modified_defect_DAS  \n",
       "484             0.937003                 1.575898  \n",
       "560             0.873231                 1.428138  \n",
       "640             0.932338                 1.517282  "
      ]
     },
     "execution_count": 30,
     "metadata": {},
     "output_type": "execute_result"
    }
   ],
   "source": [
    "df[round(df.MSE, 4) == round(df_summary.MSE['50%'], 4)]\n",
    "# df[round(df.MSE_modified, 5) == round(df_summary.MSE_modified['50%'], 4)]"
   ]
  },
  {
   "cell_type": "code",
   "execution_count": 32,
   "id": "5222b99d",
   "metadata": {},
   "outputs": [
    {
     "data": {
      "text/html": [
       "<div>\n",
       "<style scoped>\n",
       "    .dataframe tbody tr th:only-of-type {\n",
       "        vertical-align: middle;\n",
       "    }\n",
       "\n",
       "    .dataframe tbody tr th {\n",
       "        vertical-align: top;\n",
       "    }\n",
       "\n",
       "    .dataframe thead th {\n",
       "        text-align: right;\n",
       "    }\n",
       "</style>\n",
       "<table border=\"1\" class=\"dataframe\">\n",
       "  <thead>\n",
       "    <tr style=\"text-align: right;\">\n",
       "      <th></th>\n",
       "      <th>index</th>\n",
       "      <th>defWidth</th>\n",
       "      <th>defHeight</th>\n",
       "      <th>defPosx</th>\n",
       "      <th>defPosy</th>\n",
       "      <th>defAng</th>\n",
       "      <th>defAngR</th>\n",
       "      <th>timestamp</th>\n",
       "      <th>MSE</th>\n",
       "      <th>MSE_modified</th>\n",
       "      <th>MSE_modified_das</th>\n",
       "      <th>MSE_modified_defect</th>\n",
       "      <th>MSE_modified_defect_DAS</th>\n",
       "    </tr>\n",
       "  </thead>\n",
       "  <tbody>\n",
       "    <tr>\n",
       "      <th>320</th>\n",
       "      <td>2771.0</td>\n",
       "      <td>0.016842</td>\n",
       "      <td>0.001</td>\n",
       "      <td>0.035613</td>\n",
       "      <td>0.030580</td>\n",
       "      <td>-84.785494</td>\n",
       "      <td>-1.479786</td>\n",
       "      <td>01-Feb-2023 17:09:12</td>\n",
       "      <td>0.019240</td>\n",
       "      <td>0.004861</td>\n",
       "      <td>0.066591</td>\n",
       "      <td>1.000000</td>\n",
       "      <td>1.293974</td>\n",
       "    </tr>\n",
       "    <tr>\n",
       "      <th>703</th>\n",
       "      <td>3154.0</td>\n",
       "      <td>0.016537</td>\n",
       "      <td>0.001</td>\n",
       "      <td>-0.001847</td>\n",
       "      <td>0.013678</td>\n",
       "      <td>66.521434</td>\n",
       "      <td>1.161018</td>\n",
       "      <td>02-Feb-2023 04:04:22</td>\n",
       "      <td>0.019238</td>\n",
       "      <td>0.005271</td>\n",
       "      <td>0.062845</td>\n",
       "      <td>1.006483</td>\n",
       "      <td>1.393326</td>\n",
       "    </tr>\n",
       "    <tr>\n",
       "      <th>988</th>\n",
       "      <td>3439.0</td>\n",
       "      <td>0.024674</td>\n",
       "      <td>0.001</td>\n",
       "      <td>0.029253</td>\n",
       "      <td>0.013097</td>\n",
       "      <td>-22.478128</td>\n",
       "      <td>-0.392317</td>\n",
       "      <td>02-Feb-2023 12:36:34</td>\n",
       "      <td>0.019243</td>\n",
       "      <td>0.006943</td>\n",
       "      <td>0.065625</td>\n",
       "      <td>0.980919</td>\n",
       "      <td>1.456509</td>\n",
       "    </tr>\n",
       "  </tbody>\n",
       "</table>\n",
       "</div>"
      ],
      "text/plain": [
       "      index  defWidth  defHeight   defPosx   defPosy     defAng   defAngR  \\\n",
       "320  2771.0  0.016842      0.001  0.035613  0.030580 -84.785494 -1.479786   \n",
       "703  3154.0  0.016537      0.001 -0.001847  0.013678  66.521434  1.161018   \n",
       "988  3439.0  0.024674      0.001  0.029253  0.013097 -22.478128 -0.392317   \n",
       "\n",
       "                timestamp       MSE  MSE_modified  MSE_modified_das  \\\n",
       "320  01-Feb-2023 17:09:12  0.019240      0.004861          0.066591   \n",
       "703  02-Feb-2023 04:04:22  0.019238      0.005271          0.062845   \n",
       "988  02-Feb-2023 12:36:34  0.019243      0.006943          0.065625   \n",
       "\n",
       "     MSE_modified_defect  MSE_modified_defect_DAS  \n",
       "320             1.000000                 1.293974  \n",
       "703             1.006483                 1.393326  \n",
       "988             0.980919                 1.456509  "
      ]
     },
     "execution_count": 32,
     "metadata": {},
     "output_type": "execute_result"
    }
   ],
   "source": [
    "df[round(df.MSE, 5) == round(df_summary.MSE['75%'], 5)]\n",
    "# df[round(df.MSE_modified, 4) == round(df_summary.MSE_modified['75%'], 4)]"
   ]
  },
  {
   "cell_type": "code",
   "execution_count": 35,
   "id": "1f5c459d",
   "metadata": {},
   "outputs": [
    {
     "data": {
      "text/html": [
       "<div>\n",
       "<style scoped>\n",
       "    .dataframe tbody tr th:only-of-type {\n",
       "        vertical-align: middle;\n",
       "    }\n",
       "\n",
       "    .dataframe tbody tr th {\n",
       "        vertical-align: top;\n",
       "    }\n",
       "\n",
       "    .dataframe thead th {\n",
       "        text-align: right;\n",
       "    }\n",
       "</style>\n",
       "<table border=\"1\" class=\"dataframe\">\n",
       "  <thead>\n",
       "    <tr style=\"text-align: right;\">\n",
       "      <th></th>\n",
       "      <th>index</th>\n",
       "      <th>defWidth</th>\n",
       "      <th>defHeight</th>\n",
       "      <th>defPosx</th>\n",
       "      <th>defPosy</th>\n",
       "      <th>defAng</th>\n",
       "      <th>defAngR</th>\n",
       "      <th>timestamp</th>\n",
       "      <th>MSE</th>\n",
       "      <th>MSE_modified</th>\n",
       "      <th>MSE_modified_das</th>\n",
       "      <th>MSE_modified_defect</th>\n",
       "      <th>MSE_modified_defect_DAS</th>\n",
       "    </tr>\n",
       "  </thead>\n",
       "  <tbody>\n",
       "    <tr>\n",
       "      <th>367</th>\n",
       "      <td>2818.0</td>\n",
       "      <td>0.067721</td>\n",
       "      <td>0.001</td>\n",
       "      <td>-0.003627</td>\n",
       "      <td>0.040243</td>\n",
       "      <td>8.644386</td>\n",
       "      <td>0.150873</td>\n",
       "      <td>01-Feb-2023 19:32:39</td>\n",
       "      <td>0.14957</td>\n",
       "      <td>0.036712</td>\n",
       "      <td>0.071222</td>\n",
       "      <td>1.005255</td>\n",
       "      <td>1.579965</td>\n",
       "    </tr>\n",
       "  </tbody>\n",
       "</table>\n",
       "</div>"
      ],
      "text/plain": [
       "      index  defWidth  defHeight   defPosx   defPosy    defAng   defAngR  \\\n",
       "367  2818.0  0.067721      0.001 -0.003627  0.040243  8.644386  0.150873   \n",
       "\n",
       "                timestamp      MSE  MSE_modified  MSE_modified_das  \\\n",
       "367  01-Feb-2023 19:32:39  0.14957      0.036712          0.071222   \n",
       "\n",
       "     MSE_modified_defect  MSE_modified_defect_DAS  \n",
       "367             1.005255                 1.579965  "
      ]
     },
     "execution_count": 35,
     "metadata": {},
     "output_type": "execute_result"
    }
   ],
   "source": [
    "df[round(df.MSE, 6) == round(df_summary.MSE['max'], 6)]\n",
    "# df[round(df.MSE_modified, 4) == round(df_summary.MSE_modified['max'], 4)]"
   ]
  },
  {
   "cell_type": "code",
   "execution_count": 36,
   "id": "ca3aa9fa",
   "metadata": {},
   "outputs": [
    {
     "data": {
      "text/html": [
       "<div>\n",
       "<style scoped>\n",
       "    .dataframe tbody tr th:only-of-type {\n",
       "        vertical-align: middle;\n",
       "    }\n",
       "\n",
       "    .dataframe tbody tr th {\n",
       "        vertical-align: top;\n",
       "    }\n",
       "\n",
       "    .dataframe thead th {\n",
       "        text-align: right;\n",
       "    }\n",
       "</style>\n",
       "<table border=\"1\" class=\"dataframe\">\n",
       "  <thead>\n",
       "    <tr style=\"text-align: right;\">\n",
       "      <th></th>\n",
       "      <th>index</th>\n",
       "      <th>defWidth</th>\n",
       "      <th>defHeight</th>\n",
       "      <th>defPosx</th>\n",
       "      <th>defPosy</th>\n",
       "      <th>defAng</th>\n",
       "      <th>defAngR</th>\n",
       "      <th>timestamp</th>\n",
       "      <th>MSE</th>\n",
       "      <th>MSE_modified</th>\n",
       "      <th>MSE_modified_das</th>\n",
       "      <th>MSE_modified_defect</th>\n",
       "      <th>MSE_modified_defect_DAS</th>\n",
       "    </tr>\n",
       "  </thead>\n",
       "  <tbody>\n",
       "    <tr>\n",
       "      <th>562</th>\n",
       "      <td>3013.0</td>\n",
       "      <td>0.000228</td>\n",
       "      <td>0.001</td>\n",
       "      <td>-0.010908</td>\n",
       "      <td>0.046566</td>\n",
       "      <td>-72.647593</td>\n",
       "      <td>-1.26794</td>\n",
       "      <td>02-Feb-2023 01:01:45</td>\n",
       "      <td>0.000008</td>\n",
       "      <td>0.000002</td>\n",
       "      <td>0.06576</td>\n",
       "      <td>0.900805</td>\n",
       "      <td>1.736329</td>\n",
       "    </tr>\n",
       "  </tbody>\n",
       "</table>\n",
       "</div>"
      ],
      "text/plain": [
       "      index  defWidth  defHeight   defPosx   defPosy     defAng  defAngR  \\\n",
       "562  3013.0  0.000228      0.001 -0.010908  0.046566 -72.647593 -1.26794   \n",
       "\n",
       "                timestamp       MSE  MSE_modified  MSE_modified_das  \\\n",
       "562  02-Feb-2023 01:01:45  0.000008      0.000002           0.06576   \n",
       "\n",
       "     MSE_modified_defect  MSE_modified_defect_DAS  \n",
       "562             0.900805                 1.736329  "
      ]
     },
     "execution_count": 36,
     "metadata": {},
     "output_type": "execute_result"
    }
   ],
   "source": [
    "df[round(df.MSE, 6) == round(df_summary.MSE['min'], 6)]\n",
    "# df[round(df.MSE_modified, 7) == round(df_summary.MSE_modified['min'], 7)]"
   ]
  },
  {
   "cell_type": "code",
   "execution_count": 37,
   "id": "ec7aedd4",
   "metadata": {},
   "outputs": [
    {
     "data": {
      "image/png": "[encoded data removed]",
      "text/plain": [
       "<Figure size 500x600 with 1 Axes>"
      ]
     },
     "metadata": {},
     "output_type": "display_data"
    },
    {
     "data": {
      "text/plain": [
       "(array([1]), [Text(0, 0, '')])"
      ]
     },
     "execution_count": 37,
     "metadata": {},
     "output_type": "execute_result"
    },
    {
     "data": {
      "image/png": "[encoded data removed]",
      "text/plain": [
       "<Figure size 200x500 with 1 Axes>"
      ]
     },
     "metadata": {},
     "output_type": "display_data"
    },
    {
     "data": {
      "image/png": "[encoded data removed]",
      "text/plain": [
       "<Figure size 200x500 with 1 Axes>"
      ]
     },
     "metadata": {},
     "output_type": "display_data"
    }
   ],
   "source": [
    "# Zoomed in view about the boxplot of \n",
    "\n",
    "# df2 = pd.read_csv('3D_model_prediction_results.csv')\n",
    "\n",
    "\n",
    "plt.subplots(figsize = (5, 6))\n",
    "plt.boxplot([df.MSE, df.MSE_modified, df.MSE_modified_das],\n",
    "                     notch = True,  # notch shape\n",
    "                     vert = True,  # vertical box alignment\n",
    "                     patch_artist = True,  # fill with color\n",
    "                     labels=['MSE', 'MSE modified', 'MSE DAS'], # will be used to label x-ticks\n",
    "                     boxprops = dict(facecolor = \"#6181ad\"),\n",
    "                     medianprops = dict(color = \"#CA3C53\", linewidth = 1.5))  \n",
    "\n",
    "plt.ylabel('MSE loss', fontsize = 13)\n",
    "plt.xticks(fontsize = 13)\n",
    "plt.show()\n",
    "\n",
    "plt.subplots(figsize = (2, 5))\n",
    "plt.boxplot([df.MSE_modified],\n",
    "                     notch = True,  # notch shape\n",
    "                     vert = True,  # vertical box alignment\n",
    "                     patch_artist = True,  # fill with color\n",
    "                     labels=['MSE modified'], # will be used to label x-ticks\n",
    "                     boxprops = dict(facecolor = \"#6181ad\"),\n",
    "                     medianprops = dict(color = \"#CA3C53\", linewidth = 1.5))  \n",
    "\n",
    "plt.ylabel('MSE loss', fontsize = 13)\n",
    "plt.xticks(fontsize = 13)\n",
    "\n",
    "plt.subplots(figsize = (2, 5))\n",
    "plt.boxplot([df.MSE_modified_das],\n",
    "                     notch = True,  # notch shape\n",
    "                     vert = True,  # vertical box alignment\n",
    "                     patch_artist = True,  # fill with color\n",
    "                     labels=['MSE DAS'], # will be used to label x-ticks\n",
    "                     boxprops = dict(facecolor = \"#6181ad\"),\n",
    "                     medianprops = dict(color = \"#CA3C53\", linewidth = 1.5))  \n",
    "\n",
    "plt.ylabel('MSE loss', fontsize = 13)\n",
    "plt.xticks(fontsize = 13)\n"
   ]
  },
  {
   "cell_type": "markdown",
   "id": "90e92901",
   "metadata": {},
   "source": [
    "### Small defect vs large defect"
   ]
  },
  {
   "cell_type": "code",
   "execution_count": 38,
   "id": "4ea2cba1",
   "metadata": {},
   "outputs": [
    {
     "ename": "NameError",
     "evalue": "name 'width_small' is not defined",
     "output_type": "error",
     "traceback": [
      "\u001b[0;31m---------------------------------------------------------------------------\u001b[0m",
      "\u001b[0;31mNameError\u001b[0m                                 Traceback (most recent call last)",
      "Cell \u001b[0;32mIn [38], line 1\u001b[0m\n\u001b[0;32m----> 1\u001b[0m df_small_defect \u001b[38;5;241m=\u001b[39m df[df\u001b[38;5;241m.\u001b[39mdefWidth \u001b[38;5;241m<\u001b[39m \u001b[43mwidth_small\u001b[49m]\n\u001b[1;32m      2\u001b[0m df_s \u001b[38;5;241m=\u001b[39m df_small_defect\u001b[38;5;241m.\u001b[39mdescribe()\u001b[38;5;241m.\u001b[39mloc[\u001b[38;5;124m'\u001b[39m\u001b[38;5;124mmean\u001b[39m\u001b[38;5;124m'\u001b[39m]\n\u001b[1;32m      4\u001b[0m df_large_defect \u001b[38;5;241m=\u001b[39m df[df\u001b[38;5;241m.\u001b[39mdefWidth \u001b[38;5;241m>\u001b[39m width_small]\n",
      "\u001b[0;31mNameError\u001b[0m: name 'width_small' is not defined"
     ]
    }
   ],
   "source": [
    "df_small_defect = df[df.defWidth < width_small]\n",
    "df_s = df_small_defect.describe().loc['mean']\n",
    "\n",
    "df_large_defect = df[df.defWidth > width_small]\n",
    "df_l = df_large_defect.describe().loc['mean']\n",
    "\n",
    "size = ['small', 'large']\n",
    "fig, ax = plt.subplots(2,3, figsize = [16,8])\n",
    "ax[0, 0].bar(size, [df_s.MSE, df_l.MSE])\n",
    "ax[0, 0].set_title('MSE')\n",
    "\n",
    "for bars in ax[0, 0].containers:\n",
    "    ax[0, 0].bar_label(bars)\n",
    "\n",
    "ax[0, 1].bar(size, [df_s.MSE_modified, df_l.MSE_modified])\n",
    "ax[0, 1].set_title('MSE_modified')\n",
    "\n",
    "for bars in ax[0, 1].containers:\n",
    "    ax[0, 1].bar_label(bars)\n",
    "\n",
    "ax[0, 2].bar(size, [df_s.MSE_modified_das, df_l.MSE_modified_das])\n",
    "ax[0, 2].set_title('MSE_modified_das')\n",
    "\n",
    "for bars in ax[0, 2].containers:\n",
    "    ax[0, 2].bar_label(bars)\n",
    "\n",
    "ax[1, 0].bar(size, [df_s.MSE_modified_defect, df_l.MSE_modified_defect])\n",
    "ax[1, 0].set_title('MSE_modified_defect')\n",
    "\n",
    "for bars in ax[1, 0].containers:\n",
    "    ax[1, 0].bar_label(bars)\n",
    "\n",
    "ax[1, 1].bar(size, [df_s.MSE_modified_defect_DAS , df_l.MSE_modified_defect_DAS ])\n",
    "ax[1, 1].set_title('MSE_modified_defect_DAS ')\n",
    "\n",
    "for bars in ax[1, 1].containers:\n",
    "    ax[1, 1].bar_label(bars)"
   ]
  },
  {
   "cell_type": "markdown",
   "id": "02759cfd",
   "metadata": {},
   "source": [
    "### Identify the low loss characteristic"
   ]
  },
  {
   "cell_type": "code",
   "execution_count": 126,
   "id": "53a54585",
   "metadata": {},
   "outputs": [],
   "source": [
    "df = pd.read_csv('2D_model_prediction_results.csv')\n",
    "df['x_over_y'] = df.defPosx / df.defPosy "
   ]
  },
  {
   "cell_type": "code",
   "execution_count": 133,
   "id": "5b8d9235",
   "metadata": {},
   "outputs": [
    {
     "data": {
      "text/plain": [
       "index                      6.518682e+00\n",
       "defWidth                   7.918868e+01\n",
       "defHeight                  6.517616e-14\n",
       "defPosx                   -9.829102e+02\n",
       "defPosy                    3.514369e+01\n",
       "defAng                    -2.369023e+03\n",
       "defAngR                   -2.369023e+03\n",
       "MSE                        4.626559e+01\n",
       "MSE_modified               4.864549e+01\n",
       "MSE_modified_das           5.547198e+00\n",
       "MSE_modified_defect        7.496395e+00\n",
       "MSE_modified_defect_DAS    5.774160e+00\n",
       "x_over_y                  -1.073632e+03\n",
       "dtype: float64"
      ]
     },
     "execution_count": 133,
     "metadata": {},
     "output_type": "execute_result"
    }
   ],
   "source": [
    "threshold = df_summary.MSE_modified.loc['25%']\n",
    "df_filter = df[df.MSE_modified <= threshold]\n",
    "df_stats = df_filter.describe()\n",
    "df_stats.loc['std'] / df_stats.loc['mean'] * 100"
   ]
  },
  {
   "cell_type": "code",
   "execution_count": 122,
   "id": "665af039",
   "metadata": {},
   "outputs": [
    {
     "name": "stdout",
     "output_type": "stream",
     "text": [
      "The threshold is 5.2779064390051644e-05\n",
      "The threshold is 0.00628330931067465\n"
     ]
    },
    {
     "data": {
      "text/plain": [
       "(-90.0, 90.0)"
      ]
     },
     "execution_count": 122,
     "metadata": {},
     "output_type": "execute_result"
    },
    {
     "data": {
      "image/png": "[encoded data removed]",
      "text/plain": [
       "<Figure size 1600x800 with 4 Axes>"
      ]
     },
     "metadata": {},
     "output_type": "display_data"
    },
    {
     "data": {
      "image/png": "[encoded data removed]",
      "text/plain": [
       "<Figure size 1600x800 with 4 Axes>"
      ]
     },
     "metadata": {},
     "output_type": "display_data"
    }
   ],
   "source": [
    "\n",
    "threshold = df_summary.MSE_modified.loc['25%']\n",
    "bins = 15\n",
    "print(f'The threshold is {threshold}')\n",
    "\n",
    "df_filter = df[df.MSE_modified <= threshold]\n",
    "\n",
    "fig, ax = plt.subplots(2,2, figsize = [16,8])\n",
    "frq, edges = np.histogram(df_filter.defPosx, bins)\n",
    "ax[0,0].bar(edges[:-1], frq, width=np.diff(edges), edgecolor=\"black\", align=\"edge\")\n",
    "ax[0,0].set_xlim(-0.06, 0.06)\n",
    "ax[0,0].set_title('defPosx')\n",
    "\n",
    "frq, edges = np.histogram(df_filter.defPosy, bins)\n",
    "ax[0,1].bar(edges[:-1], frq, width=np.diff(edges), edgecolor=\"black\", align=\"edge\")\n",
    "ax[0,1].set_xlim(0, 0.06)\n",
    "ax[0,1].set_title('defPosy')\n",
    "\n",
    "frq, edges = np.histogram(df_filter.defWidth, bins)\n",
    "ax[1,0].bar(edges[:-1], frq, width=np.diff(edges), edgecolor=\"black\", align=\"edge\")\n",
    "ax[1,0].set_title('defWidth')\n",
    "\n",
    "frq, edges = np.histogram(df_filter.defAng, bins)\n",
    "ax[1,1].bar(edges[:-1], frq, width=np.diff(edges), edgecolor=\"black\", align=\"edge\")\n",
    "ax[1,1].set_title('defAng')\n",
    "ax[1,1].set_xlim(-90, 90)\n",
    "\n",
    "threshold = df_summary.MSE_modified.loc['75%']\n",
    "print(f'The threshold is {threshold}')\n",
    "\n",
    "df_filter = df[df.MSE_modified >= threshold]\n",
    "\n",
    "fig, ax = plt.subplots(2,2, figsize = [16,8])\n",
    "frq, edges = np.histogram(df_filter.defPosx, bins)\n",
    "ax[0,0].bar(edges[:-1], frq, width=np.diff(edges), edgecolor=\"black\", align=\"edge\")\n",
    "ax[0,0].set_xlim(-0.06, 0.06)\n",
    "ax[0,0].set_title('defPosx')\n",
    "\n",
    "frq, edges = np.histogram(df_filter.defPosy, bins)\n",
    "ax[0,1].bar(edges[:-1], frq, width=np.diff(edges), edgecolor=\"black\", align=\"edge\")\n",
    "ax[0,1].set_xlim(0, 0.06)\n",
    "ax[0,1].set_title('defPosy')\n",
    "\n",
    "frq, edges = np.histogram(df_filter.defWidth, bins)\n",
    "ax[1,0].bar(edges[:-1], frq, width=np.diff(edges), edgecolor=\"black\", align=\"edge\")\n",
    "ax[1,0].set_title('defWidth')\n",
    "\n",
    "frq, edges = np.histogram(df_filter.defAng, bins)\n",
    "ax[1,1].bar(edges[:-1], frq, width=np.diff(edges), edgecolor=\"black\", align=\"edge\")\n",
    "ax[1,1].set_title('defAng')\n",
    "ax[1,1].set_xlim(-90, 90)\n"
   ]
  },
  {
   "cell_type": "code",
   "execution_count": 28,
   "id": "d487acd0",
   "metadata": {},
   "outputs": [
    {
     "data": {
      "image/png": "[encoded data removed]",
      "text/plain": [
       "<Figure size 640x480 with 1 Axes>"
      ]
     },
     "metadata": {},
     "output_type": "display_data"
    }
   ],
   "source": [
    "frq, edges = np.histogram(defwidth, 10)\n",
    "\n",
    "fig, ax = plt.subplots()\n",
    "ax.bar(edges[:-1], frq, width=np.diff(edges), edgecolor=\"black\", align=\"edge\")\n",
    "\n",
    "plt.show()"
   ]
  },
  {
   "cell_type": "code",
   "execution_count": 29,
   "id": "5d43a15b",
   "metadata": {},
   "outputs": [
    {
     "data": {
      "text/plain": [
       "{'whiskers': [<matplotlib.lines.Line2D at 0x113de0820>,\n",
       "  <matplotlib.lines.Line2D at 0x113de0af0>],\n",
       " 'caps': [<matplotlib.lines.Line2D at 0x113de0dc0>,\n",
       "  <matplotlib.lines.Line2D at 0x113df00d0>],\n",
       " 'boxes': [<matplotlib.lines.Line2D at 0x113de0550>],\n",
       " 'medians': [<matplotlib.lines.Line2D at 0x113df03a0>],\n",
       " 'fliers': [<matplotlib.lines.Line2D at 0x113df0670>],\n",
       " 'means': []}"
      ]
     },
     "execution_count": 29,
     "metadata": {},
     "output_type": "execute_result"
    },
    {
     "data": {
      "image/png": "[encoded data removed]",
      "text/plain": [
       "<Figure size 640x480 with 1 Axes>"
      ]
     },
     "metadata": {},
     "output_type": "display_data"
    }
   ],
   "source": [
    "plt.boxplot(defwidth)"
   ]
  },
  {
   "cell_type": "code",
   "execution_count": null,
   "id": "3fe5273e",
   "metadata": {},
   "outputs": [],
   "source": []
  }
 ],
 "metadata": {
  "kernelspec": {
   "display_name": "Python 3 (ipykernel)",
   "language": "python",
   "name": "python3"
  },
  "language_info": {
   "codemirror_mode": {
    "name": "ipython",
    "version": 3
   },
   "file_extension": ".py",
   "mimetype": "text/x-python",
   "name": "python",
   "nbconvert_exporter": "python",
   "pygments_lexer": "ipython3",
   "version": "3.8.15"
  }
 },
 "nbformat": 4,
 "nbformat_minor": 5
}
