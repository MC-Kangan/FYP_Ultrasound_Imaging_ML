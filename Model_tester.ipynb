{
 "cells": [
  {
   "cell_type": "code",
   "execution_count": 1,
   "id": "975f39cf",
   "metadata": {},
   "outputs": [],
   "source": [
    "import os\n",
    "import zipfile\n",
    "import numpy as np\n",
    "import tensorflow as tf\n",
    "import pickle\n",
    "import keras\n",
    "from keras.models import Sequential\n",
    "from keras.layers import Dense, Flatten, Conv3D, MaxPooling3D, Dropout, BatchNormalization\n",
    "from tensorflow.keras.models import load_model\n",
    "import matplotlib.pyplot as plt\n",
    "\n",
    "# defined\n",
    "from utility_function import img_resize\n",
    "from utility_function import model_namer\n",
    "from utility_function import model_namer_description"
   ]
  },
  {
   "cell_type": "code",
   "execution_count": 5,
   "id": "fbfa8207",
   "metadata": {},
   "outputs": [
    {
     "name": "stdout",
     "output_type": "stream",
     "text": [
      "Model description:\n",
      " \n",
      "                - Dimension: 2\n",
      " \n",
      "                - Number of samples: 1000\n",
      "\n",
      "                - FMC subsampling frequency: 5\n",
      "\n",
      "                - FMC scaler: 1.75e-14\n",
      "\n",
      "                - Img resize factor: 50\n",
      "\n",
      "                - Img scaler: 1\n",
      "\n",
      "                - Activation functions: relu\n",
      "\n",
      "                - Epochs: 100\n",
      "\n",
      "    \n"
     ]
    }
   ],
   "source": [
    "# model testing\n",
    "\n",
    "# filename = '3d_cnn2.h5'\n",
    "# filename = '3d_cnn3.h5'\n",
    "# img_resize_factor = 100\n",
    "\n",
    "# filename = '3dcnn4_100_5_1.75e-14_100_1_relu_50.h5'\n",
    "# filename = '3dcnn5_100_5_1.75e-14_50_1_relu_50.h5'\n",
    "# filename = '3dcnn6_1000_5_1.75e-14_40_1_tanh_1.h5'\n",
    "filename = 'cnn2d_1000_5_1.75e-14_50_1_relu_100.h5'\n",
    "info = model_namer_description(filename)\n",
    "img_resize_factor = int(info['img_resize'])\n",
    "\n",
    "model = load_model(filename, compile=False)"
   ]
  },
  {
   "cell_type": "code",
   "execution_count": 3,
   "id": "7f1c511f",
   "metadata": {},
   "outputs": [],
   "source": [
    "pickle_in_x = open(\"data_subsampled_no_backwall_200_X.pickle\", \"rb\")\n",
    "pickle_in_y = open(\"data_subsampled_no_backwall_200_y.pickle\", \"rb\")\n",
    "X = pickle.load(pickle_in_x)\n",
    "y = pickle.load(pickle_in_y)"
   ]
  },
  {
   "cell_type": "code",
   "execution_count": 8,
   "id": "afcf9e97",
   "metadata": {},
   "outputs": [
    {
     "name": "stdout",
     "output_type": "stream",
     "text": [
      "1/1 [==============================] - 0s 12ms/step\n"
     ]
    },
    {
     "data": {
      "text/plain": [
       "(-0.5, 119.5, 89.5, -0.5)"
      ]
     },
     "execution_count": 8,
     "metadata": {},
     "output_type": "execute_result"
    },
    {
     "data": {
      "image/png": "[encoded data removed]",
      "text/plain": [
       "<Figure size 640x480 with 1 Axes>"
      ]
     },
     "metadata": {},
     "output_type": "display_data"
    }
   ],
   "source": [
    "y = model.predict(X[38].reshape(-1, 895, 16, 16, 1))\n",
    "img = y.reshape(int(180*img_resize_factor/100), int(240*img_resize_factor/100))\n",
    "fig, ax = plt.subplots()\n",
    "ax.imshow(img)\n",
    "plt.axis('off')\n"
   ]
  },
  {
   "cell_type": "code",
   "execution_count": null,
   "id": "d497dd94",
   "metadata": {},
   "outputs": [],
   "source": []
  }
 ],
 "metadata": {
  "kernelspec": {
   "display_name": "Python 3 (ipykernel)",
   "language": "python",
   "name": "python3"
  },
  "language_info": {
   "codemirror_mode": {
    "name": "ipython",
    "version": 3
   },
   "file_extension": ".py",
   "mimetype": "text/x-python",
   "name": "python",
   "nbconvert_exporter": "python",
   "pygments_lexer": "ipython3",
   "version": "3.8.15"
  }
 },
 "nbformat": 4,
 "nbformat_minor": 5
}
