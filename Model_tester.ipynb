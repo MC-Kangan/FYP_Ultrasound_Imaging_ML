{
 "cells": [
  {
   "cell_type": "code",
   "execution_count": 10,
   "id": "975f39cf",
   "metadata": {},
   "outputs": [],
   "source": [
    "import os\n",
    "import zipfile\n",
    "import numpy as np\n",
    "import tensorflow as tf\n",
    "import pickle\n",
    "import keras\n",
    "from keras.models import Sequential\n",
    "from keras.layers import Dense, Flatten, Conv3D, MaxPooling3D, Dropout, BatchNormalization\n",
    "from tensorflow.keras.models import load_model\n",
    "import matplotlib.pyplot as plt\n",
    "\n",
    "# defined\n",
    "from utility_function import img_resize, model_namer, model_namer_description, save_ml_model, load_ml_model, load_training_data"
   ]
  },
  {
   "cell_type": "code",
   "execution_count": 11,
   "id": "fbfa8207",
   "metadata": {},
   "outputs": [
    {
     "name": "stdout",
     "output_type": "stream",
     "text": [
      "Model description:\n",
      " \n",
      "                - Dimension: 2\n",
      " \n",
      "                - Number of samples: 1000\n",
      "\n",
      "                - FMC subsampling frequency: 5\n",
      "\n",
      "                - FMC scaler: 1.75e-14\n",
      "\n",
      "                - Img resize factor: 50\n",
      "\n",
      "                - Img scaler: 255\n",
      "\n",
      "                - Remark: max\n",
      "\n",
      "                - Epochs: 100\n",
      "\n",
      "    \n"
     ]
    }
   ],
   "source": [
    "# model testing\n",
    "\n",
    "# filename = '3d_cnn2.h5'\n",
    "# filename = '3d_cnn3.h5'\n",
    "# img_resize_factor = 100\n",
    "\n",
    "# filename = 'cnn3d_100_5_1.75e-14_100_1_relu_50.h5'\n",
    "# filename = 'cnn3d_100_5_1.75e-14_50_1_relu_50.h5'\n",
    "# filename = 'cnn3d_1000_5_1.75e-14_40_1_tanh_1.h5'\n",
    "# filename = 'cnn2d_1000_5_1.75e-14_50_1_relu_100.h5'\n",
    "# filename = 'cnn2d_1000_5_1.75e-14_100_1_tanhmax_100.h5'\n",
    "# filename = 'cnn3d_2000_5_1.75e-14_50_1_relu-dense_1.pkl'\n",
    "# filename = 'cnn2d_1000_5_1.75e-14_50_255_max_100.pkl'\n",
    "filename = 'cnn2d_1000_5_1.75e-14_50_255_max_100.pkl'\n",
    "\n",
    "info = model_namer_description(filename)\n",
    "img_resize_factor = int(info['img_resize'])\n",
    "\n",
    "model = load_ml_model(filename)"
   ]
  },
  {
   "cell_type": "code",
   "execution_count": 22,
   "id": "7f1c511f",
   "metadata": {},
   "outputs": [
    {
     "name": "stdout",
     "output_type": "stream",
     "text": [
      "The shape of X is (1000, 895, 256, 1)\n",
      "The shape of y is (1000, 7200)\n"
     ]
    }
   ],
   "source": [
    "x_dimension = 2\n",
    "img_resize_factor = 50\n",
    "img_scaler = 255\n",
    "epochs = 100\n",
    "\n",
    "X, y = load_training_data(num_sample=1000, \n",
    "                          x_dimension=x_dimension, \n",
    "                          img_resize_factor=img_resize_factor, \n",
    "                          img_scaler = img_scaler)"
   ]
  },
  {
   "cell_type": "code",
   "execution_count": 29,
   "id": "8ad12a09",
   "metadata": {},
   "outputs": [
    {
     "data": {
      "text/plain": [
       "(-0.5, 119.5, 59.5, -0.5)"
      ]
     },
     "execution_count": 29,
     "metadata": {},
     "output_type": "execute_result"
    },
    {
     "data": {
      "image/png": "[encoded data removed]",
      "text/plain": [
       "<Figure size 640x480 with 1 Axes>"
      ]
     },
     "metadata": {},
     "output_type": "display_data"
    }
   ],
   "source": [
    "true_img = y[999].reshape(int(120*img_resize_factor/100), int(240*img_resize_factor/100))\n",
    "fig, ax = plt.subplots()\n",
    "ax.imshow(true_img, cmap ='gray')\n",
    "plt.axis('off')"
   ]
  },
  {
   "cell_type": "code",
   "execution_count": 28,
   "id": "afcf9e97",
   "metadata": {},
   "outputs": [
    {
     "name": "stdout",
     "output_type": "stream",
     "text": [
      "1/1 [==============================] - 0s 45ms/step\n"
     ]
    },
    {
     "data": {
      "text/plain": [
       "(-0.5, 119.5, 59.5, -0.5)"
      ]
     },
     "execution_count": 28,
     "metadata": {},
     "output_type": "execute_result"
    },
    {
     "data": {
      "image/png": "[encoded data removed]",
      "text/plain": [
       "<Figure size 640x480 with 1 Axes>"
      ]
     },
     "metadata": {},
     "output_type": "display_data"
    }
   ],
   "source": [
    "ypred = model.predict(X[999].reshape(-1, 895, 256, 1))*img_scaler\n",
    "img = ypred.reshape(int(120*img_resize_factor/100), int(240*img_resize_factor/100))\n",
    "fig, ax = plt.subplots()\n",
    "ax.imshow(img, cmap ='gray')\n",
    "plt.axis('off')\n"
   ]
  },
  {
   "cell_type": "code",
   "execution_count": 19,
   "id": "15b8adfe",
   "metadata": {},
   "outputs": [
    {
     "data": {
      "text/plain": [
       "(7200,)"
      ]
     },
     "execution_count": 19,
     "metadata": {},
     "output_type": "execute_result"
    }
   ],
   "source": []
  },
  {
   "cell_type": "code",
   "execution_count": null,
   "id": "65471201",
   "metadata": {},
   "outputs": [],
   "source": []
  }
 ],
 "metadata": {
  "kernelspec": {
   "display_name": "Python 3 (ipykernel)",
   "language": "python",
   "name": "python3"
  },
  "language_info": {
   "codemirror_mode": {
    "name": "ipython",
    "version": 3
   },
   "file_extension": ".py",
   "mimetype": "text/x-python",
   "name": "python",
   "nbconvert_exporter": "python",
   "pygments_lexer": "ipython3",
   "version": "3.8.15"
  }
 },
 "nbformat": 4,
 "nbformat_minor": 5
}
